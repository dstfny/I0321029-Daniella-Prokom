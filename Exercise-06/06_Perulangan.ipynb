{
 "cells": [
  {
   "cell_type": "markdown",
   "metadata": {},
   "source": [
    "***\n",
    "<h1 align=\"center\">Exercise 06</h1>\n",
    " \n",
    "***\n",
    "## While Loop\n",
    "## Exercise 6.1\n",
    "isilah bagian rumpang berikut. xx diganti tanggal lahir dan yy diganti menjadi bulan lahir. tandanya menyesuaikan yang lebih besar."
   ]
  },
  {
   "cell_type": "code",
   "execution_count": 5,
   "metadata": {},
   "outputs": [
    {
     "name": "stdout",
     "output_type": "stream",
     "text": [
      "Lakukan segalanya dengan cinta\n",
      "Lakukan segalanya dengan cinta\n",
      "Lakukan segalanya dengan cinta\n",
      "Lakukan segalanya dengan cinta\n",
      "Lakukan segalanya dengan cinta\n",
      "Lakukan segalanya dengan cinta\n",
      "Lakukan segalanya dengan cinta\n",
      "Lakukan segalanya dengan cinta\n",
      "Lakukan segalanya dengan cinta\n",
      "Lakukan segalanya dengan cinta\n",
      "Lakukan segalanya dengan cinta\n",
      "Lakukan segalanya dengan cinta\n",
      "Lakukan segalanya dengan cinta\n",
      "Lakukan segalanya dengan cinta\n",
      "Lakukan segalanya dengan cinta\n",
      "Lakukan segalanya dengan cinta\n",
      "Lakukan segalanya dengan cinta\n",
      "Lakukan segalanya dengan cinta\n",
      "Lakukan segalanya dengan cinta\n",
      "Lakukan segalanya dengan cinta\n",
      "Lakukan segalanya dengan cinta\n",
      "Lakukan segalanya dengan cinta\n"
     ]
    }
   ],
   "source": [
    "#menentukan banyak pengulangan\n",
    "n = 27\n",
    "\n",
    "#melakukan pengulangan\n",
    "i = 6\n",
    "\n",
    "while i <= n :\n",
    "    print (\"Lakukan segalanya dengan cinta\")\n",
    "    #diisi motto kalian\n",
    "    i = i + 1 # sesuaikan dengan atas agar fungsi perulangan dapat berhenti\n"
   ]
  },
  {
   "cell_type": "markdown",
   "metadata": {},
   "source": [
    "## Exercise 6.2\n",
    "\n",
    "Buatlah code seperti yang dicontohkan pada modul agar user dapat menginputkan sendiri jumlah n yang diinginkan"
   ]
  },
  {
   "cell_type": "code",
   "execution_count": 9,
   "metadata": {},
   "outputs": [
    {
     "name": "stdout",
     "output_type": "stream",
     "text": [
      "1\n",
      "2\n"
     ]
    }
   ],
   "source": [
    "#Kerjakan disini\n",
    "n = int(input(\"Masukkan nilai n : \"))\n",
    "i = 1\n",
    "\n",
    "while i <= n:\n",
    "    print(i)\n",
    "    i = i + 1"
   ]
  },
  {
   "cell_type": "markdown",
   "metadata": {},
   "source": [
    "## Excercise 6.3\n",
    "\n",
    "isilah xx, yy, dan tanda rumpang seperti pada exercise 6.1\n"
   ]
  },
  {
   "cell_type": "code",
   "execution_count": 14,
   "metadata": {},
   "outputs": [
    {
     "name": "stdout",
     "output_type": "stream",
     "text": [
      "Baris ke-27 : Narnia\n",
      "Baris ke-26 : Narnia\n",
      "Baris ke-25 : Narnia\n",
      "Baris ke-24 : Narnia\n",
      "Baris ke-23 : Narnia\n",
      "Baris ke-22 : Narnia\n",
      "Baris ke-21 : Narnia\n",
      "Baris ke-20 : Narnia\n",
      "Baris ke-19 : Narnia\n",
      "Baris ke-18 : Narnia\n",
      "Baris ke-17 : Narnia\n",
      "Baris ke-16 : Narnia\n",
      "Baris ke-15 : Narnia\n",
      "Baris ke-14 : Narnia\n",
      "Baris ke-13 : Narnia\n",
      "Baris ke-12 : Narnia\n",
      "Baris ke-11 : Narnia\n",
      "Baris ke-10 : Narnia\n",
      "Baris ke-9 : Narnia\n",
      "Baris ke-8 : Narnia\n",
      "Baris ke-7 : Narnia\n",
      "Baris ke-6 : Narnia\n"
     ]
    }
   ],
   "source": [
    "#melakukan pengulangan\n",
    "i = 27\n",
    "\n",
    "while i >= 6 :\n",
    "    print (\"Baris ke-%d : Narnia\"%i)\n",
    "    #isi titik-titik dengan judul film favorit kalian\n",
    "    i = i - 1 "
   ]
  },
  {
   "cell_type": "markdown",
   "metadata": {},
   "source": [
    "## FOR LOOP\n",
    "\n",
    "## Exercise 6.4\n",
    "\n",
    "munculkan 3 dari 7 elemen yang berada di dalam list1 dan list2\n"
   ]
  },
  {
   "cell_type": "code",
   "execution_count": 21,
   "metadata": {},
   "outputs": [
    {
     "name": "stdout",
     "output_type": "stream",
     "text": [
      "1 Pizza Malinau\n",
      "2 Cake Temanggung\n",
      "3 Bakso Surakarta\n"
     ]
    }
   ],
   "source": [
    "list1 = ['Pizza', 'Cake', 'Bakso', 'Katsu', 'Molen', 'Sate', 'Ikan Bakar'] #masukkan 7 list makanan favorit kalian\n",
    "list2 = ['Malinau', 'Temanggung', 'Surakarta', 'Bandung', 'Surabaya', 'Denpasar', 'Semarang'] #masukkan 7 list kota favorit kalian\n",
    "\n",
    "for i in range(0,3) :\n",
    "    print(i+1, list1[i] , list2[i])"
   ]
  },
  {
   "cell_type": "markdown",
   "metadata": {},
   "source": [
    "## Perulangan Bersarang\n",
    "\n",
    "## Exercise 6.5"
   ]
  },
  {
   "cell_type": "code",
   "execution_count": 19,
   "metadata": {},
   "outputs": [
    {
     "name": "stdout",
     "output_type": "stream",
     "text": [
      "729 \n",
      "702 676 \n",
      "675 650 625 \n",
      "648 624 600 576 \n",
      "621 598 575 552 529 \n",
      "594 572 550 528 506 484 \n",
      "567 546 525 504 483 462 441 \n",
      "540 520 500 480 460 440 420 400 \n",
      "513 494 475 456 437 418 399 380 361 \n",
      "486 468 450 432 414 396 378 360 342 324 \n",
      "459 442 425 408 391 374 357 340 323 306 289 \n",
      "432 416 400 384 368 352 336 320 304 288 272 256 \n",
      "405 390 375 360 345 330 315 300 285 270 255 240 225 \n",
      "378 364 350 336 322 308 294 280 266 252 238 224 210 196 \n",
      "351 338 325 312 299 286 273 260 247 234 221 208 195 182 169 \n",
      "324 312 300 288 276 264 252 240 228 216 204 192 180 168 156 144 \n",
      "297 286 275 264 253 242 231 220 209 198 187 176 165 154 143 132 121 \n",
      "270 260 250 240 230 220 210 200 190 180 170 160 150 140 130 120 110 100 \n",
      "243 234 225 216 207 198 189 180 171 162 153 144 135 126 117 108 99 90 81 \n",
      "216 208 200 192 184 176 168 160 152 144 136 128 120 112 104 96 88 80 72 64 \n",
      "189 182 175 168 161 154 147 140 133 126 119 112 105 98 91 84 77 70 63 56 49 \n",
      "162 156 150 144 138 132 126 120 114 108 102 96 90 84 78 72 66 60 54 48 42 36 \n"
     ]
    }
   ],
   "source": [
    "i = 27\n",
    "while i >= 6:\n",
    "    j = 27\n",
    "    while j>=i:\n",
    "        print(\"%d \" % (i*j), end = '')\n",
    "        j = j - 1\n",
    "    print()\n",
    "    i-=1"
   ]
  },
  {
   "cell_type": "markdown",
   "metadata": {},
   "source": [
    "## Pernyataan Loncat\n",
    "\n",
    "## Exercise 6.\n",
    "\n",
    "Buatlah fungsi berikut agar muncul angka hingga berhenti sesuai dengan nilai qq\n",
    "qq = angka favorit kalian\n",
    "pp>qq"
   ]
  },
  {
   "cell_type": "code",
   "execution_count": 20,
   "metadata": {},
   "outputs": [
    {
     "name": "stdout",
     "output_type": "stream",
     "text": [
      "01234567"
     ]
    }
   ],
   "source": [
    "for i in range(9):\n",
    "    print(i,end='')\n",
    "    if i == 7:\n",
    "        break"
   ]
  },
  {
   "cell_type": "markdown",
   "metadata": {},
   "source": [
    "***\n",
    "<h1 align=\"center\">WELL DONE</h1>\n",
    " \n",
    "***"
   ]
  }
 ],
 "metadata": {
  "interpreter": {
   "hash": "cd08f94adcf3cbae37fe85286256f4c2a10455ca9094fd053e9f3d3f09647223"
  },
  "kernelspec": {
   "display_name": "Python 3.9.7 64-bit",
   "language": "python",
   "name": "python3"
  },
  "language_info": {
   "codemirror_mode": {
    "name": "ipython",
    "version": 3
   },
   "file_extension": ".py",
   "mimetype": "text/x-python",
   "name": "python",
   "nbconvert_exporter": "python",
   "pygments_lexer": "ipython3",
   "version": "3.10.2"
  },
  "orig_nbformat": 4
 },
 "nbformat": 4,
 "nbformat_minor": 2
}
